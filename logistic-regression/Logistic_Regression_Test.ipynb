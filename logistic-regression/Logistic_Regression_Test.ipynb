{
 "cells": [
  {
   "cell_type": "markdown",
   "id": "81918197",
   "metadata": {},
   "source": [
    "# Ignore Warnings"
   ]
  },
  {
   "cell_type": "code",
   "execution_count": 1,
   "id": "28c80f4f",
   "metadata": {},
   "outputs": [],
   "source": [
    "import warnings\n",
    "warnings.filterwarnings(\"ignore\")"
   ]
  },
  {
   "cell_type": "markdown",
   "id": "078f6967",
   "metadata": {},
   "source": [
    "# Import Libraries"
   ]
  },
  {
   "cell_type": "code",
   "execution_count": 2,
   "id": "f868fb13",
   "metadata": {},
   "outputs": [],
   "source": [
    "import pandas as pd\n",
    "import numpy as np\n",
    "from sklearn import datasets\n",
    "from matplotlib import pyplot as plt\n",
    "from sklearn.linear_model import LogisticRegression as Skl_lg_reg\n",
    "from from_scratch import LogisticRegression as My_lg_reg\n",
    "from sklearn.model_selection import train_test_split\n",
    "from sklearn.metrics import confusion_matrix"
   ]
  },
  {
   "cell_type": "markdown",
   "id": "643ad99a",
   "metadata": {},
   "source": [
    "# Dataset Initialization"
   ]
  },
  {
   "cell_type": "code",
   "execution_count": 3,
   "id": "d7035583",
   "metadata": {},
   "outputs": [],
   "source": [
    "df = datasets.load_breast_cancer()\n",
    "x, y = df.data, df.target"
   ]
  },
  {
   "cell_type": "markdown",
   "id": "a4ada0bb",
   "metadata": {},
   "source": [
    "# Split into test and train datasets"
   ]
  },
  {
   "cell_type": "code",
   "execution_count": 4,
   "id": "4b073ac1",
   "metadata": {},
   "outputs": [],
   "source": [
    "x_train, x_test, y_train, y_test = train_test_split(x, y, test_size=0.2, random_state=1234)"
   ]
  },
  {
   "cell_type": "markdown",
   "id": "be7a24c8",
   "metadata": {},
   "source": [
    "# Function to compute accuracy of model"
   ]
  },
  {
   "cell_type": "code",
   "execution_count": 5,
   "id": "56d47e4e",
   "metadata": {},
   "outputs": [],
   "source": [
    "def get_accuracy(y_true, y_pred):\n",
    "    accuracy = np.sum(y_true == y_pred) / len(y_true)\n",
    "    return accuracy"
   ]
  },
  {
   "cell_type": "markdown",
   "id": "2b74d976",
   "metadata": {},
   "source": [
    "# Testing model implemented from scratch"
   ]
  },
  {
   "cell_type": "code",
   "execution_count": 6,
   "id": "5b5fe75b",
   "metadata": {},
   "outputs": [],
   "source": [
    "my_model = My_lg_reg()\n",
    "my_model.fit(x_train, y_train)\n",
    "y_pred = my_model.predict(x_test)\n",
    "acc_my_model = get_accuracy(y_test, y_pred)"
   ]
  },
  {
   "cell_type": "markdown",
   "id": "18c94a62",
   "metadata": {},
   "source": [
    "# Testing by Skl model"
   ]
  },
  {
   "cell_type": "code",
   "execution_count": 7,
   "id": "32281c5b",
   "metadata": {},
   "outputs": [],
   "source": [
    "skl_model = Skl_lg_reg()\n",
    "model_fit = skl_model.fit(x_train, y_train)\n",
    "y_pred = model_fit.predict(x_test)\n",
    "acc_skl_model = get_accuracy(y_test, y_pred)"
   ]
  },
  {
   "cell_type": "markdown",
   "id": "1e9dbdc1",
   "metadata": {},
   "source": [
    "# Print Results"
   ]
  },
  {
   "cell_type": "code",
   "execution_count": 8,
   "id": "8b3b55f1",
   "metadata": {},
   "outputs": [
    {
     "name": "stdout",
     "output_type": "stream",
     "text": [
      "Accuracy by model from scratch: 0.8947368421052632\n",
      "Accuracy by SKL model: 0.9473684210526315\n"
     ]
    }
   ],
   "source": [
    "print(f'Accuracy by model from scratch: {acc_my_model}')\n",
    "print(f'Accuracy by SKL model: {acc_skl_model}')"
   ]
  }
 ],
 "metadata": {
  "kernelspec": {
   "display_name": "Python 3",
   "language": "python",
   "name": "python3"
  },
  "language_info": {
   "codemirror_mode": {
    "name": "ipython",
    "version": 3
   },
   "file_extension": ".py",
   "mimetype": "text/x-python",
   "name": "python",
   "nbconvert_exporter": "python",
   "pygments_lexer": "ipython3",
   "version": "3.8.5"
  }
 },
 "nbformat": 4,
 "nbformat_minor": 5
}
