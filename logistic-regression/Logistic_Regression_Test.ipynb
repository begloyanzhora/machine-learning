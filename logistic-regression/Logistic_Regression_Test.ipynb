{
 "cells": [
  {
   "cell_type": "markdown",
   "id": "7dd35efb",
   "metadata": {},
   "source": [
    "# Ignore Warnings"
   ]
  },
  {
   "cell_type": "code",
   "execution_count": 53,
   "id": "1fb5a823",
   "metadata": {},
   "outputs": [],
   "source": [
    "import warnings\n",
    "warnings.filterwarnings(\"ignore\")"
   ]
  },
  {
   "cell_type": "markdown",
   "id": "53fb2a8b",
   "metadata": {},
   "source": [
    "# Import Libraries"
   ]
  },
  {
   "cell_type": "code",
   "execution_count": 2,
   "id": "1145d296",
   "metadata": {},
   "outputs": [],
   "source": [
    "import pandas as pd\n",
    "import numpy as np\n",
    "from sklearn import datasets\n",
    "from matplotlib import pyplot as plt\n",
    "from sklearn.linear_model import LogisticRegression as Skl_lg_reg\n",
    "from from_scratch import LogisticRegression as My_lg_reg\n",
    "from with_pytorch import LogisticRegression as Torch_lg_reg\n",
    "from sklearn.model_selection import train_test_split\n",
    "from sklearn.metrics import confusion_matrix\n",
    "\n",
    "import torch\n",
    "from torch.autograd import Variable"
   ]
  },
  {
   "cell_type": "markdown",
   "id": "fde8040e",
   "metadata": {},
   "source": [
    "# Dataset Initialization"
   ]
  },
  {
   "cell_type": "code",
   "execution_count": 54,
   "id": "9db6ecac",
   "metadata": {},
   "outputs": [],
   "source": [
    "df = datasets.load_breast_cancer()\n",
    "x, y = df.data, df.target"
   ]
  },
  {
   "cell_type": "markdown",
   "id": "8e973556",
   "metadata": {},
   "source": [
    "# Split into test and train datasets"
   ]
  },
  {
   "cell_type": "code",
   "execution_count": 55,
   "id": "6d9b8f66",
   "metadata": {},
   "outputs": [],
   "source": [
    "x_train, x_test, y_train, y_test = train_test_split(x, y, test_size=0.2, random_state=1234)"
   ]
  },
  {
   "cell_type": "markdown",
   "id": "3064142a",
   "metadata": {},
   "source": [
    "# Function to compute accuracy of model"
   ]
  },
  {
   "cell_type": "code",
   "execution_count": 5,
   "id": "5d67a6b4",
   "metadata": {},
   "outputs": [],
   "source": [
    "def get_accuracy(y_true, y_pred):\n",
    "    accuracy = np.sum(y_true == y_pred) / len(y_true)\n",
    "    return accuracy"
   ]
  },
  {
   "cell_type": "markdown",
   "id": "8331581f",
   "metadata": {},
   "source": [
    "# Testing model implemented from scratch"
   ]
  },
  {
   "cell_type": "code",
   "execution_count": 6,
   "id": "6327bfcf",
   "metadata": {},
   "outputs": [],
   "source": [
    "my_model = My_lg_reg()\n",
    "my_model.fit(x_train, y_train)\n",
    "y_pred = my_model.predict(x_test)\n",
    "acc_my_model = get_accuracy(y_test, y_pred)"
   ]
  },
  {
   "cell_type": "markdown",
   "id": "c4ca88fe",
   "metadata": {},
   "source": [
    "# Testing by Skl model"
   ]
  },
  {
   "cell_type": "code",
   "execution_count": 7,
   "id": "1a3e8ee7",
   "metadata": {},
   "outputs": [],
   "source": [
    "skl_model = Skl_lg_reg()\n",
    "model_fit = skl_model.fit(x_train, y_train)\n",
    "y_pred = model_fit.predict(x_test)\n",
    "acc_skl_model = get_accuracy(y_test, y_pred)"
   ]
  },
  {
   "cell_type": "markdown",
   "id": "da706bc2",
   "metadata": {},
   "source": [
    "# Testing pytorch implemented model"
   ]
  },
  {
   "cell_type": "markdown",
   "id": "041b6e79",
   "metadata": {},
   "source": [
    "### Create model with init params"
   ]
  },
  {
   "cell_type": "code",
   "execution_count": 44,
   "id": "379e2e20",
   "metadata": {},
   "outputs": [],
   "source": [
    "input_size = x_train.shape[1]\n",
    "output_size = 1\n",
    "learning_rate = 0.0001\n",
    "epochs = 100\n",
    "\n",
    "model_torch = Torch_lg_reg(input_size, output_size)"
   ]
  },
  {
   "cell_type": "markdown",
   "id": "991b2fcd",
   "metadata": {},
   "source": [
    "### Optimize and train the model"
   ]
  },
  {
   "cell_type": "code",
   "execution_count": 45,
   "id": "5f78bdd7",
   "metadata": {},
   "outputs": [],
   "source": [
    "criterion = torch.nn.BCELoss()\n",
    "optimizer  = torch.optim.Adam(model_torch.parameters(), lr=learning_rate)"
   ]
  },
  {
   "cell_type": "code",
   "execution_count": 46,
   "id": "c2a14772",
   "metadata": {},
   "outputs": [],
   "source": [
    "for epoch in range(epochs):\n",
    "    inputs = Variable(torch.from_numpy(x_train))\n",
    "    labels = Variable(torch.from_numpy(y_train))"
   ]
  },
  {
   "cell_type": "code",
   "execution_count": 47,
   "id": "8fdffe34",
   "metadata": {},
   "outputs": [],
   "source": [
    "for epoch in range(epochs):\n",
    "    outputs = model_torch(inputs.float())\n",
    "    loss = criterion(outputs, labels.reshape(-1, 1).float())\n",
    "    loss.backward()\n",
    "    optimizer.step()\n",
    "    optimizer.zero_grad()"
   ]
  },
  {
   "cell_type": "code",
   "execution_count": 48,
   "id": "ba6591df",
   "metadata": {},
   "outputs": [],
   "source": [
    "with torch.no_grad():\n",
    "    y_predicted_by_torch = model_torch( Variable(torch.from_numpy(x_test)).float() ).data.numpy()"
   ]
  },
  {
   "cell_type": "code",
   "execution_count": 49,
   "id": "b04dfc63",
   "metadata": {},
   "outputs": [
    {
     "data": {
      "text/plain": [
       "69.0"
      ]
     },
     "execution_count": 49,
     "metadata": {},
     "output_type": "execute_result"
    }
   ],
   "source": [
    "get_accuracy(y_test, y_predicted_by_torch)"
   ]
  },
  {
   "cell_type": "code",
   "execution_count": 52,
   "id": "63e89e19",
   "metadata": {},
   "outputs": [
    {
     "data": {
      "text/plain": [
       "array([[1.],\n",
       "       [1.],\n",
       "       [1.],\n",
       "       [1.],\n",
       "       [1.],\n",
       "       [1.],\n",
       "       [1.],\n",
       "       [1.],\n",
       "       [1.],\n",
       "       [1.],\n",
       "       [1.],\n",
       "       [1.],\n",
       "       [1.],\n",
       "       [1.],\n",
       "       [1.],\n",
       "       [1.],\n",
       "       [1.],\n",
       "       [1.],\n",
       "       [1.],\n",
       "       [1.],\n",
       "       [1.],\n",
       "       [1.],\n",
       "       [1.],\n",
       "       [1.],\n",
       "       [1.],\n",
       "       [1.],\n",
       "       [1.],\n",
       "       [1.],\n",
       "       [1.],\n",
       "       [1.],\n",
       "       [1.],\n",
       "       [1.],\n",
       "       [1.],\n",
       "       [1.],\n",
       "       [1.],\n",
       "       [1.],\n",
       "       [1.],\n",
       "       [1.],\n",
       "       [1.],\n",
       "       [1.],\n",
       "       [1.],\n",
       "       [1.],\n",
       "       [1.],\n",
       "       [1.],\n",
       "       [1.],\n",
       "       [1.],\n",
       "       [1.],\n",
       "       [1.],\n",
       "       [1.],\n",
       "       [1.],\n",
       "       [1.],\n",
       "       [1.],\n",
       "       [1.],\n",
       "       [1.],\n",
       "       [1.],\n",
       "       [1.],\n",
       "       [1.],\n",
       "       [1.],\n",
       "       [1.],\n",
       "       [1.],\n",
       "       [1.],\n",
       "       [1.],\n",
       "       [1.],\n",
       "       [1.],\n",
       "       [1.],\n",
       "       [1.],\n",
       "       [1.],\n",
       "       [1.],\n",
       "       [1.],\n",
       "       [1.],\n",
       "       [1.],\n",
       "       [1.],\n",
       "       [1.],\n",
       "       [1.],\n",
       "       [1.],\n",
       "       [1.],\n",
       "       [1.],\n",
       "       [1.],\n",
       "       [1.],\n",
       "       [1.],\n",
       "       [1.],\n",
       "       [1.],\n",
       "       [1.],\n",
       "       [1.],\n",
       "       [1.],\n",
       "       [1.],\n",
       "       [1.],\n",
       "       [1.],\n",
       "       [1.],\n",
       "       [1.],\n",
       "       [1.],\n",
       "       [1.],\n",
       "       [1.],\n",
       "       [1.],\n",
       "       [1.],\n",
       "       [1.],\n",
       "       [1.],\n",
       "       [1.],\n",
       "       [1.],\n",
       "       [1.],\n",
       "       [1.],\n",
       "       [1.],\n",
       "       [1.],\n",
       "       [1.],\n",
       "       [1.],\n",
       "       [1.],\n",
       "       [1.],\n",
       "       [1.],\n",
       "       [1.],\n",
       "       [1.],\n",
       "       [1.],\n",
       "       [1.],\n",
       "       [1.],\n",
       "       [1.]], dtype=float32)"
      ]
     },
     "execution_count": 52,
     "metadata": {},
     "output_type": "execute_result"
    }
   ],
   "source": [
    "y_predicted_by_torch"
   ]
  },
  {
   "cell_type": "markdown",
   "id": "b3ee6c3e",
   "metadata": {},
   "source": [
    "# Print Results"
   ]
  },
  {
   "cell_type": "code",
   "execution_count": 51,
   "id": "05bed82f",
   "metadata": {},
   "outputs": [
    {
     "name": "stdout",
     "output_type": "stream",
     "text": [
      "Accuracy by model from scratch: 0.8947368421052632\n",
      "Accuracy by SKL model: 0.9473684210526315\n"
     ]
    }
   ],
   "source": [
    "print(f'Accuracy by model from scratch: {acc_my_model}')\n",
    "print(f'Accuracy by SKL model: {acc_skl_model}')"
   ]
  },
  {
   "cell_type": "code",
   "execution_count": null,
   "id": "ec3dcaeb",
   "metadata": {},
   "outputs": [],
   "source": []
  }
 ],
 "metadata": {
  "kernelspec": {
   "display_name": "Python 3",
   "language": "python",
   "name": "python3"
  },
  "language_info": {
   "codemirror_mode": {
    "name": "ipython",
    "version": 3
   },
   "file_extension": ".py",
   "mimetype": "text/x-python",
   "name": "python",
   "nbconvert_exporter": "python",
   "pygments_lexer": "ipython3",
   "version": "3.8.5"
  }
 },
 "nbformat": 4,
 "nbformat_minor": 5
}
