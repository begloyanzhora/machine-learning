{
 "cells": [
  {
   "cell_type": "markdown",
   "id": "0ea30e50",
   "metadata": {},
   "source": [
    "# Ignore Warnings"
   ]
  },
  {
   "cell_type": "code",
   "execution_count": 34,
   "id": "9fa9ab58",
   "metadata": {},
   "outputs": [],
   "source": [
    "import warnings\n",
    "warnings.filterwarnings(\"ignore\")"
   ]
  },
  {
   "cell_type": "markdown",
   "id": "0cf86a29",
   "metadata": {},
   "source": [
    "# Import Libraries"
   ]
  },
  {
   "cell_type": "code",
   "execution_count": 35,
   "id": "2b4560fa",
   "metadata": {},
   "outputs": [],
   "source": [
    "import pandas as pd\n",
    "import numpy as np\n",
    "from sklearn import datasets\n",
    "# from matplotlib import pyplot as plt\n",
    "from sklearn.linear_model import LogisticRegression as Skl_lg_reg\n",
    "from from_scratch import LogisticRegression as My_lg_reg\n",
    "from with_pytorch import LogisticRegression as Torch_lg_reg\n",
    "from sklearn.model_selection import train_test_split\n",
    "from sklearn.metrics import confusion_matrix\n",
    "\n",
    "import torch\n",
    "from torch.autograd import Variable\n",
    "\n",
    "from tensorflow.keras.models import Sequential\n",
    "from tensorflow.keras.layers import Dense"
   ]
  },
  {
   "cell_type": "markdown",
   "id": "92dd8aba",
   "metadata": {},
   "source": [
    "# Dataset Initialization"
   ]
  },
  {
   "cell_type": "code",
   "execution_count": 36,
   "id": "c3f22e5a",
   "metadata": {},
   "outputs": [],
   "source": [
    "df = datasets.load_breast_cancer()\n",
    "x, y = df.data, df.target"
   ]
  },
  {
   "cell_type": "markdown",
   "id": "b95fec1f",
   "metadata": {},
   "source": [
    "# Split into test and train datasets"
   ]
  },
  {
   "cell_type": "code",
   "execution_count": 37,
   "id": "d65f7544",
   "metadata": {},
   "outputs": [],
   "source": [
    "x_train, x_test, y_train, y_test = train_test_split(x, y, test_size=0.2, random_state=1234)"
   ]
  },
  {
   "cell_type": "markdown",
   "id": "a3aa04c2",
   "metadata": {},
   "source": [
    "# Function to compute accuracy of model"
   ]
  },
  {
   "cell_type": "code",
   "execution_count": 38,
   "id": "6c947f57",
   "metadata": {},
   "outputs": [],
   "source": [
    "def get_accuracy(y_true, y_pred):\n",
    "    accuracy = np.sum(y_true == y_pred) / len(y_true)\n",
    "    return accuracy"
   ]
  },
  {
   "cell_type": "markdown",
   "id": "800778f4",
   "metadata": {},
   "source": [
    "# Testing model implemented from scratch"
   ]
  },
  {
   "cell_type": "code",
   "execution_count": 39,
   "id": "bd389d03",
   "metadata": {},
   "outputs": [],
   "source": [
    "my_model = My_lg_reg()\n",
    "my_model.fit(x_train, y_train)\n",
    "y_pred = my_model.predict(x_test)\n",
    "acc_my_model = get_accuracy(y_test, y_pred)"
   ]
  },
  {
   "cell_type": "markdown",
   "id": "241e361e",
   "metadata": {},
   "source": [
    "# Testing by Skl model"
   ]
  },
  {
   "cell_type": "code",
   "execution_count": 40,
   "id": "f5a2fda5",
   "metadata": {},
   "outputs": [],
   "source": [
    "skl_model = Skl_lg_reg()\n",
    "model_fit = skl_model.fit(x_train, y_train)\n",
    "y_pred = model_fit.predict(x_test)\n",
    "acc_skl_model = get_accuracy(y_test, y_pred)"
   ]
  },
  {
   "cell_type": "markdown",
   "id": "9f0303cc",
   "metadata": {},
   "source": [
    "# Testing pytorch implemented model"
   ]
  },
  {
   "cell_type": "markdown",
   "id": "4111b177",
   "metadata": {},
   "source": [
    "### Create model with init params"
   ]
  },
  {
   "cell_type": "code",
   "execution_count": 50,
   "id": "a04cc784",
   "metadata": {},
   "outputs": [],
   "source": [
    "input_size = x_train.shape[1]\n",
    "output_size = 1\n",
    "learning_rate = 0.001\n",
    "epochs = 100\n",
    "\n",
    "model_torch = Torch_lg_reg(input_size, output_size)"
   ]
  },
  {
   "cell_type": "markdown",
   "id": "a7fa9b35",
   "metadata": {},
   "source": [
    "### Optimize and train the model"
   ]
  },
  {
   "cell_type": "code",
   "execution_count": 51,
   "id": "bf453d44",
   "metadata": {},
   "outputs": [],
   "source": [
    "criterion = torch.nn.BCELoss()\n",
    "optimizer  = torch.optim.Adam(model_torch.parameters(), lr=learning_rate)"
   ]
  },
  {
   "cell_type": "code",
   "execution_count": 52,
   "id": "dbbb63a3",
   "metadata": {},
   "outputs": [],
   "source": [
    "for epoch in range(epochs):\n",
    "    inputs = Variable(torch.from_numpy(x_train))\n",
    "    labels = Variable(torch.from_numpy(y_train))"
   ]
  },
  {
   "cell_type": "code",
   "execution_count": 53,
   "id": "235fc111",
   "metadata": {},
   "outputs": [],
   "source": [
    "for epoch in range(epochs):\n",
    "    outputs = model_torch(inputs.float())\n",
    "    loss = criterion(outputs, labels.reshape(-1, 1).float())\n",
    "    loss.backward()\n",
    "    optimizer.step()\n",
    "    optimizer.zero_grad()"
   ]
  },
  {
   "cell_type": "code",
   "execution_count": 58,
   "id": "6f54b0d9",
   "metadata": {},
   "outputs": [],
   "source": [
    "with torch.no_grad():\n",
    "    y_predicted_by_torch = model_torch( Variable(torch.from_numpy(x_test)).float() ).data.numpy().round()"
   ]
  },
  {
   "cell_type": "code",
   "execution_count": 71,
   "id": "829d4e2e",
   "metadata": {},
   "outputs": [],
   "source": [
    "acc_torch_model = get_accuracy(y_test, y_predicted_by_torch)"
   ]
  },
  {
   "cell_type": "markdown",
   "id": "664a1a71",
   "metadata": {},
   "source": [
    "# Imlement using Tensorflow"
   ]
  },
  {
   "cell_type": "code",
   "execution_count": 61,
   "id": "963fb505",
   "metadata": {},
   "outputs": [],
   "source": [
    "model = Sequential()\n",
    "model.add(Dense(8, input_dim=input_size, activation='relu'))\n",
    "model.add(Dense(4, activation='relu'))\n",
    "model.add(Dense(output_size, activation='sigmoid'))"
   ]
  },
  {
   "cell_type": "code",
   "execution_count": 62,
   "id": "78e50027",
   "metadata": {},
   "outputs": [
    {
     "output_type": "stream",
     "name": "stdout",
     "text": [
      "Model: \"sequential_1\"\n_________________________________________________________________\nLayer (type)                 Output Shape              Param #   \n=================================================================\ndense_3 (Dense)              (None, 8)                 248       \n_________________________________________________________________\ndense_4 (Dense)              (None, 4)                 36        \n_________________________________________________________________\ndense_5 (Dense)              (None, 1)                 5         \n=================================================================\nTotal params: 289\nTrainable params: 289\nNon-trainable params: 0\n_________________________________________________________________\n"
     ]
    }
   ],
   "source": [
    "model.summary()"
   ]
  },
  {
   "cell_type": "code",
   "execution_count": 63,
   "id": "e238590a",
   "metadata": {},
   "outputs": [],
   "source": [
    "model.compile(loss='binary_crossentropy', optimizer='rmsprop', metrics=['accuracy'])"
   ]
  },
  {
   "cell_type": "code",
   "execution_count": 67,
   "id": "46ba0dc9",
   "metadata": {
    "tags": []
   },
   "outputs": [
    {
     "output_type": "execute_result",
     "data": {
      "text/plain": [
       "<tensorflow.python.keras.callbacks.History at 0x7fe6d2326220>"
      ]
     },
     "metadata": {},
     "execution_count": 67
    }
   ],
   "source": [
    "model.fit(x=x_test, y=y_test, epochs=512, verbose=0)"
   ]
  },
  {
   "cell_type": "code",
   "execution_count": 68,
   "metadata": {},
   "outputs": [],
   "source": [
    "y_pred_by_tf = model.predict(x_test).round()"
   ]
  },
  {
   "cell_type": "code",
   "execution_count": 70,
   "metadata": {},
   "outputs": [],
   "source": [
    "acc_tf_model = get_accuracy(y_test, y_pred_by_tf)"
   ]
  },
  {
   "cell_type": "markdown",
   "id": "86e72318",
   "metadata": {},
   "source": [
    "# Print Results"
   ]
  },
  {
   "cell_type": "code",
   "execution_count": 74,
   "id": "f1935f71",
   "metadata": {},
   "outputs": [
    {
     "output_type": "stream",
     "name": "stdout",
     "text": [
      "Accuracy by model from scratch: 0.8947368421052632\nAccuracy by SKL model: 0.9385964912280702\nAccuracy by torch model: 60.36842105263158\nAccuracy by SKL model: 57.63157894736842\n"
     ]
    }
   ],
   "source": [
    "print(f'Accuracy by model from scratch: {acc_my_model}')\n",
    "print(f'Accuracy by SKL model: {acc_skl_model}')\n",
    "print(f'Accuracy by torch model: {acc_torch_model}')\n",
    "print(f'Accuracy by SKL model: {acc_tf_model}')"
   ]
  },
  {
   "cell_type": "code",
   "execution_count": null,
   "id": "695d94b3",
   "metadata": {},
   "outputs": [],
   "source": []
  }
 ],
 "metadata": {
  "kernelspec": {
   "display_name": "Python 3",
   "language": "python",
   "name": "python3"
  }
 },
 "nbformat": 4,
 "nbformat_minor": 5
}