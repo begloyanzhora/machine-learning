{
 "cells": [
  {
   "cell_type": "markdown",
   "id": "primary-parts",
   "metadata": {},
   "source": [
    "# Gradient Descent from Scratch"
   ]
  },
  {
   "cell_type": "markdown",
   "id": "hindu-tactics",
   "metadata": {},
   "source": [
    "## Import Libraries"
   ]
  },
  {
   "cell_type": "code",
   "execution_count": 1,
   "id": "remarkable-attachment",
   "metadata": {},
   "outputs": [],
   "source": [
    "import pandas as pd\n",
    "import numpy as np\n",
    "import matplotlib.pyplot as plt"
   ]
  },
  {
   "cell_type": "markdown",
   "id": "actual-hydrogen",
   "metadata": {},
   "source": [
    "## Generate the data"
   ]
  },
  {
   "cell_type": "code",
   "execution_count": 2,
   "id": "matched-oklahoma",
   "metadata": {},
   "outputs": [],
   "source": [
    "x = np.linspace(start=-15, stop=15, num=30)\n",
    "y = np.square(x-5)"
   ]
  },
  {
   "cell_type": "markdown",
   "id": "minor-withdrawal",
   "metadata": {},
   "source": [
    "## Plot the Data Graph"
   ]
  },
  {
   "cell_type": "code",
   "execution_count": 3,
   "id": "recovered-telling",
   "metadata": {},
   "outputs": [
    {
     "data": {
      "image/png": "[encoded data removed]",
      "text/plain": [
       "<Figure size 576x432 with 1 Axes>"
      ]
     },
     "metadata": {
      "needs_background": "light"
     },
     "output_type": "display_data"
    }
   ],
   "source": [
    "# Need to find x to minimize the Loss function\n",
    "plt.figure(figsize=(8,6))\n",
    "plt.plot(x, y, color='green')\n",
    "plt.title('Gradient Descent')\n",
    "plt.xlabel('Input Data (x)', color='red')\n",
    "plt.ylabel('Loss Function (y)', color='red')\n",
    "plt.show()"
   ]
  },
  {
   "cell_type": "markdown",
   "id": "resident-brave",
   "metadata": {},
   "source": [
    "## Gradient of y with respect to x"
   ]
  },
  {
   "cell_type": "code",
   "execution_count": 4,
   "id": "weekly-smoke",
   "metadata": {},
   "outputs": [],
   "source": [
    "grad_of_y = lambda x: 2*(x-5)"
   ]
  },
  {
   "cell_type": "markdown",
   "id": "buried-pierre",
   "metadata": {},
   "source": [
    "## Initial values"
   ]
  },
  {
   "cell_type": "code",
   "execution_count": 5,
   "id": "coastal-jewelry",
   "metadata": {},
   "outputs": [],
   "source": [
    "# init x value close to 0\n",
    "curr_x_val = 0.1"
   ]
  },
  {
   "cell_type": "code",
   "execution_count": 6,
   "id": "found-occupation",
   "metadata": {},
   "outputs": [],
   "source": [
    "# value to tells when to stop algorithm \n",
    "precision_val = 0.0001"
   ]
  },
  {
   "cell_type": "code",
   "execution_count": 7,
   "id": "medium-istanbul",
   "metadata": {},
   "outputs": [],
   "source": [
    "# max iterations\n",
    "max_iterations = 500"
   ]
  },
  {
   "cell_type": "code",
   "execution_count": 8,
   "id": "owned-cartoon",
   "metadata": {},
   "outputs": [],
   "source": [
    "# current iteration\n",
    "curr_iteration = 0"
   ]
  },
  {
   "cell_type": "code",
   "execution_count": 9,
   "id": "understood-referral",
   "metadata": {},
   "outputs": [],
   "source": [
    "# learning rate\n",
    "learning_rate = 0.1"
   ]
  },
  {
   "cell_type": "code",
   "execution_count": 10,
   "id": "loose-species",
   "metadata": {},
   "outputs": [],
   "source": [
    "# previous step size = curr_x_value - previous_x_value\n",
    "previous_step_size = 0.5"
   ]
  },
  {
   "cell_type": "code",
   "execution_count": 11,
   "id": "declared-peripheral",
   "metadata": {
    "scrolled": true
   },
   "outputs": [
    {
     "name": "stdout",
     "output_type": "stream",
     "text": [
      "The local minimum found at 4.999666523280418\n"
     ]
    }
   ],
   "source": [
    "while previous_step_size > precision_val and curr_iteration < max_iterations:\n",
    "    previous_x_val = curr_x_val\n",
    "    curr_x_val = curr_x_val - learning_rate * grad_of_y(previous_x_val)\n",
    "    previous_step_size = abs(curr_x_val - previous_x_val)\n",
    "    curr_iteration += 1\n",
    "    \n",
    "print(f'The local minimum found at {curr_x_val}')"
   ]
  }
 ],
 "metadata": {
  "kernelspec": {
   "display_name": "Python 3",
   "language": "python",
   "name": "python3"
  },
  "language_info": {
   "codemirror_mode": {
    "name": "ipython",
    "version": 3
   },
   "file_extension": ".py",
   "mimetype": "text/x-python",
   "name": "python",
   "nbconvert_exporter": "python",
   "pygments_lexer": "ipython3",
   "version": "3.8.5"
  }
 },
 "nbformat": 4,
 "nbformat_minor": 5
}
