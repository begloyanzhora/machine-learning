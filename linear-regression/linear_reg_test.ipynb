{
 "cells": [
  {
   "cell_type": "markdown",
   "id": "142ce64e",
   "metadata": {},
   "source": [
    "# Import Libraries"
   ]
  },
  {
   "cell_type": "code",
   "execution_count": 16,
   "id": "67d1c76e",
   "metadata": {},
   "outputs": [],
   "source": [
    "import numpy as np\n",
    "from sklearn.model_selection import train_test_split\n",
    "from sklearn.metrics import mean_squared_error\n",
    "from sklearn.linear_model import LinearRegression as Lr_skl\n",
    "from sklearn import datasets\n",
    "from gradient_descent import LinearRegression\n",
    "import matplotlib.pyplot as plt"
   ]
  },
  {
   "cell_type": "markdown",
   "id": "27d8ef08",
   "metadata": {},
   "source": [
    "# Init dataset with random values"
   ]
  },
  {
   "cell_type": "code",
   "execution_count": 17,
   "id": "8a0d167b",
   "metadata": {},
   "outputs": [],
   "source": [
    "x, y = datasets.make_regression(n_samples=100, n_features=2, noise=20, random_state=4)"
   ]
  },
  {
   "cell_type": "markdown",
   "id": "8a834044",
   "metadata": {},
   "source": [
    "# Plot data graph"
   ]
  },
  {
   "cell_type": "code",
   "execution_count": 24,
   "id": "c1095f52",
   "metadata": {},
   "outputs": [
    {
     "data": {
      "image/png": "[encoded data removed]",
      "text/plain": [
       "<Figure size 576x432 with 1 Axes>"
      ]
     },
     "metadata": {
      "needs_background": "light"
     },
     "output_type": "display_data"
    }
   ],
   "source": [
    "fig = plt.figure(figsize=(8,6))\n",
    "plt.scatter(x[:, 0], y, color='b', marker='o', s=30)\n",
    "plt.show()"
   ]
  },
  {
   "cell_type": "markdown",
   "id": "f3fec3b4",
   "metadata": {},
   "source": [
    "# Split into test and train parts"
   ]
  },
  {
   "cell_type": "code",
   "execution_count": 18,
   "id": "d5cee85b",
   "metadata": {},
   "outputs": [],
   "source": [
    "x_train, x_test, y_train, y_test = train_test_split(x, y, test_size=0.2, random_state=1234)"
   ]
  },
  {
   "cell_type": "markdown",
   "id": "195a3895",
   "metadata": {},
   "source": [
    "# Predict with custom model"
   ]
  },
  {
   "cell_type": "code",
   "execution_count": 19,
   "id": "2c2e4cdb",
   "metadata": {},
   "outputs": [],
   "source": [
    "model_grd = LinearRegression(n_iters=10000)\n",
    "model_grd.fit(x_train, y_train)\n",
    "y_predicted_by_grd = model_grd.predict(x_test)\n",
    "mse_value_grd = mean_squared_error(y_test, y_predicted_by_grd)"
   ]
  },
  {
   "cell_type": "markdown",
   "id": "d491f61f",
   "metadata": {},
   "source": [
    "# Predict with sklearn model"
   ]
  },
  {
   "cell_type": "code",
   "execution_count": 20,
   "id": "1019d3f7",
   "metadata": {},
   "outputs": [],
   "source": [
    "model_skl = Lr_skl()\n",
    "model_skl.fit(x_train, y_train)\n",
    "y_predicted_by_skl = model_skl.predict(x_test)\n",
    "mse_value_skl = mean_squared_error(y_test, y_predicted_by_skl)"
   ]
  },
  {
   "cell_type": "markdown",
   "id": "b7668dcc",
   "metadata": {},
   "source": [
    "# Mean squared errors colculated by both"
   ]
  },
  {
   "cell_type": "code",
   "execution_count": 21,
   "id": "d1fe24eb",
   "metadata": {},
   "outputs": [
    {
     "name": "stdout",
     "output_type": "stream",
     "text": [
      "mse value by grd = 588.7087293380602\n",
      "mse value by skl = 588.806073840301\n"
     ]
    }
   ],
   "source": [
    "print(f'mse value by grd = {mse_value_grd}')\n",
    "print(f'mse value by skl = {mse_value_skl}')"
   ]
  }
 ],
 "metadata": {
  "kernelspec": {
   "display_name": "Python 3",
   "language": "python",
   "name": "python3"
  },
  "language_info": {
   "codemirror_mode": {
    "name": "ipython",
    "version": 3
   },
   "file_extension": ".py",
   "mimetype": "text/x-python",
   "name": "python",
   "nbconvert_exporter": "python",
   "pygments_lexer": "ipython3",
   "version": "3.8.5"
  }
 },
 "nbformat": 4,
 "nbformat_minor": 5
}
