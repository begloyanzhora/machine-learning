{
 "cells": [
  {
   "cell_type": "markdown",
   "id": "b1e53e48",
   "metadata": {},
   "source": [
    "# Ignore Warnings"
   ]
  },
  {
   "cell_type": "code",
   "execution_count": 1,
   "id": "ceafde0a",
   "metadata": {},
   "outputs": [],
   "source": [
    "import warnings\n",
    "warnings.filterwarnings(\"ignore\")"
   ]
  },
  {
   "cell_type": "markdown",
   "id": "c0f351ff",
   "metadata": {},
   "source": [
    "# Import Libraries"
   ]
  },
  {
   "cell_type": "code",
   "execution_count": 2,
   "id": "d85830c4",
   "metadata": {},
   "outputs": [],
   "source": [
    "import numpy as np\n",
    "import pandas as pd\n",
    "import torch\n",
    "from torch.autograd import Variable\n",
    "from sklearn.model_selection import train_test_split\n",
    "from sklearn.metrics import mean_squared_error\n",
    "from sklearn import datasets\n",
    "import matplotlib.pyplot as plt\n",
    "\n",
    "from gradient_descent import LinearRegression\n",
    "from sklearn.linear_model import LinearRegression as Lr_skl\n",
    "from with_pytorch import LinearRegression as Lr_torch\n",
    "from with_tf import LinearRegression as Lr_tf"
   ]
  },
  {
   "cell_type": "markdown",
   "id": "ec3e07ac",
   "metadata": {},
   "source": [
    "# Init dataset with random values"
   ]
  },
  {
   "cell_type": "code",
   "execution_count": 3,
   "id": "b868f82a",
   "metadata": {},
   "outputs": [],
   "source": [
    "x, y = datasets.make_regression(n_samples=100, n_features=1, noise=20, random_state=4)"
   ]
  },
  {
   "cell_type": "markdown",
   "id": "b7796c29",
   "metadata": {},
   "source": [
    "# Split into test and train parts"
   ]
  },
  {
   "cell_type": "code",
   "execution_count": 4,
   "id": "a1801bac",
   "metadata": {},
   "outputs": [],
   "source": [
    "x_train, x_test, y_train, y_test = train_test_split(x, y, test_size=0.2)"
   ]
  },
  {
   "cell_type": "markdown",
   "id": "a05fd7b1",
   "metadata": {},
   "source": [
    "# Predict with custom model"
   ]
  },
  {
   "cell_type": "code",
   "execution_count": 5,
   "id": "0bf1c351",
   "metadata": {},
   "outputs": [],
   "source": [
    "model_grd = LinearRegression(n_iters=10000)\n",
    "model_grd.fit(x_train, y_train)\n",
    "y_predicted_by_grd = model_grd.predict(x_test)\n",
    "mse_value_grd = mean_squared_error(y_test, y_predicted_by_grd)"
   ]
  },
  {
   "cell_type": "markdown",
   "id": "c4aacfcd",
   "metadata": {},
   "source": [
    "# Predict with sklearn model"
   ]
  },
  {
   "cell_type": "code",
   "execution_count": 6,
   "id": "adb9536a",
   "metadata": {},
   "outputs": [],
   "source": [
    "model_skl = Lr_skl()\n",
    "model_skl.fit(x_train, y_train)\n",
    "y_predicted_by_skl = model_skl.predict(x_test)\n",
    "mse_value_skl = mean_squared_error(y_test, y_predicted_by_skl)"
   ]
  },
  {
   "cell_type": "markdown",
   "id": "0fd82085",
   "metadata": {},
   "source": [
    "# Predict with PyTorch implemented model"
   ]
  },
  {
   "cell_type": "markdown",
   "id": "02f08828",
   "metadata": {},
   "source": [
    "### Create model with init params"
   ]
  },
  {
   "cell_type": "code",
   "execution_count": 7,
   "id": "8f9790d3",
   "metadata": {},
   "outputs": [],
   "source": [
    "input_size = 1\n",
    "output_size = 1\n",
    "learning_rate = 0.00001\n",
    "epochs = 1000\n",
    "\n",
    "model_torch = Lr_torch(input_size, output_size)"
   ]
  },
  {
   "cell_type": "markdown",
   "id": "dec411b1",
   "metadata": {},
   "source": [
    "### Optimize and Train the Model"
   ]
  },
  {
   "cell_type": "code",
   "execution_count": 8,
   "id": "5a75b82e",
   "metadata": {},
   "outputs": [],
   "source": [
    "criterion = torch.nn.MSELoss() \n",
    "optimizer = torch.optim.SGD(model_torch.parameters(), lr=learning_rate)"
   ]
  },
  {
   "cell_type": "code",
   "execution_count": 9,
   "id": "e5617bbc",
   "metadata": {},
   "outputs": [],
   "source": [
    "for epoch in range(epochs):\n",
    "    inputs = Variable(torch.from_numpy(x_train))\n",
    "    labels = Variable(torch.from_numpy(y_train))"
   ]
  },
  {
   "cell_type": "code",
   "execution_count": 10,
   "id": "a7e9eb2d",
   "metadata": {},
   "outputs": [],
   "source": [
    "optimizer.zero_grad()\n",
    "outputs = model_torch(inputs.float())\n",
    "loss = criterion(outputs, labels.float())\n",
    "loss.backward()\n",
    "optimizer.step()"
   ]
  },
  {
   "cell_type": "code",
   "execution_count": 11,
   "id": "17193c50",
   "metadata": {},
   "outputs": [],
   "source": [
    "with torch.no_grad():\n",
    "    y_predicted_by_torch = model_torch(Variable(torch.from_numpy(x_test)).float()).data.numpy()"
   ]
  },
  {
   "cell_type": "code",
   "execution_count": 12,
   "id": "72f7f881",
   "metadata": {},
   "outputs": [],
   "source": [
    "mse_value_torch = mean_squared_error(y_test, y_predicted_by_torch)"
   ]
  },
  {
   "cell_type": "markdown",
   "id": "bef5608a",
   "metadata": {},
   "source": [
    "# Predict with Tensrflow Implemented model"
   ]
  },
  {
   "cell_type": "code",
   "execution_count": 13,
   "id": "a70840d1",
   "metadata": {},
   "outputs": [],
   "source": [
    "model_tf = Lr_tf()\n",
    "model_tf.fit(x_train, y_train)\n",
    "y_predicted_by_tf = model_tf.predict(x_test)\n",
    "mse_value_tf = mean_squared_error(y_test, y_predicted_by_tf)"
   ]
  },
  {
   "cell_type": "markdown",
   "id": "464044c0",
   "metadata": {},
   "source": [
    "# The graph of Predicted and true values"
   ]
  },
  {
   "cell_type": "code",
   "execution_count": 17,
   "id": "e648245c",
   "metadata": {},
   "outputs": [
    {
     "data": {
      "image/png": "[encoded data removed]",
      "text/plain": [
       "<Figure size 432x288 with 1 Axes>"
      ]
     },
     "metadata": {
      "needs_background": "light"
     },
     "output_type": "display_data"
    }
   ],
   "source": [
    "plt.clf()\n",
    "plt.plot(x, y, 'go', label='True data', alpha=0.1)\n",
    "plt.plot(x_test, y_predicted_by_grd, label='Custom Model')\n",
    "plt.plot(x_test, y_predicted_by_skl, '--', label='Skl Model')\n",
    "plt.plot(x_test, y_predicted_by_torch, label='PyTorch')\n",
    "plt.plot(x_test, y_predicted_by_tf, label='TensorFlow')\n",
    "plt.legend(loc='best')\n",
    "plt.show()"
   ]
  },
  {
   "cell_type": "markdown",
   "id": "54358b54",
   "metadata": {},
   "source": [
    "# Mean squared errors colculated by both"
   ]
  },
  {
   "cell_type": "code",
   "execution_count": 18,
   "id": "8d21e110",
   "metadata": {},
   "outputs": [
    {
     "name": "stdout",
     "output_type": "stream",
     "text": [
      "mse value by grd = 202.01097832522123\n",
      "mse value by skl = 6270.139801058191\n",
      "mse value by pytorch = 7938.486156805229\n",
      "mse value by tensorflow = 999.2495496510652\n"
     ]
    }
   ],
   "source": [
    "print(f'mse value by grd = {mse_value_grd}')\n",
    "print(f'mse value by skl = {mse_value_skl}')\n",
    "print(f'mse value by pytorch = {mse_value_torch}')\n",
    "print(f'mse value by tensorflow = {mse_value_tf}')"
   ]
  }
 ],
 "metadata": {
  "kernelspec": {
   "display_name": "Python 3",
   "language": "python",
   "name": "python3"
  },
  "language_info": {
   "codemirror_mode": {
    "name": "ipython",
    "version": 3
   },
   "file_extension": ".py",
   "mimetype": "text/x-python",
   "name": "python",
   "nbconvert_exporter": "python",
   "pygments_lexer": "ipython3",
   "version": "3.8.5"
  }
 },
 "nbformat": 4,
 "nbformat_minor": 5
}
